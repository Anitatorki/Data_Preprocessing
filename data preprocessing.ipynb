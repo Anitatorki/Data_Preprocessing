{
 "cells": [
  {
   "cell_type": "code",
   "execution_count": 1,
   "id": "1d01a484-fb8f-4b7c-9bb7-f5fa5a992687",
   "metadata": {},
   "outputs": [],
   "source": [
    "import numpy as np\n",
    "import pandas as pd \n",
    "import matplotlib.pyplot as plt\n",
    "import sklearn\n",
    "from sklearn.model_selection import train_test_split\n",
    "from sklearn import linear_model\n",
    "import joblib"
   ]
  },
  {
   "cell_type": "code",
   "execution_count": 2,
   "id": "8a333a44-7f37-48ce-b618-fe448ec41fae",
   "metadata": {},
   "outputs": [],
   "source": [
    "df = pd.read_csv(\"student-mat.csv\", sep=\";\")\n",
    "df = df[[\"absences\",\"Medu\",\"G2\",\"G3\",\"sex\"]]\n",
    "\n",
    "predict = \"G3\"\n"
   ]
  },
  {
   "cell_type": "code",
   "execution_count": 5,
   "id": "8daaafc7-8268-4a80-85db-dfb9a6fb2b9b",
   "metadata": {},
   "outputs": [
    {
     "data": {
      "text/plain": [
       "array(['F', 'M'], dtype=object)"
      ]
     },
     "execution_count": 5,
     "metadata": {},
     "output_type": "execute_result"
    }
   ],
   "source": [
    "df[\"sex\"].unique()"
   ]
  },
  {
   "cell_type": "code",
   "execution_count": 9,
   "id": "f150ac71-be83-4d6d-a23d-938be62a02f3",
   "metadata": {},
   "outputs": [],
   "source": [
    "df[\"n_sex\"] = [0 if i==\"F\" else 1 for i in df[\"sex\"]]"
   ]
  },
  {
   "cell_type": "code",
   "execution_count": 10,
   "id": "68a1f640-edb6-438c-82a6-d528e590e3c9",
   "metadata": {},
   "outputs": [],
   "source": [
    "X = np.array(df.drop([predict, \"sex\"], axis=1))\n",
    "y = np.array(df[predict])"
   ]
  },
  {
   "cell_type": "code",
   "execution_count": 11,
   "id": "067939c2-0a1a-49ef-bf0d-c1185c760ddc",
   "metadata": {},
   "outputs": [
    {
     "data": {
      "text/plain": [
       "array([[ 6,  4,  6,  0],\n",
       "       [ 4,  1,  5,  0],\n",
       "       [10,  1,  8,  0],\n",
       "       ...,\n",
       "       [ 3,  1,  8,  1],\n",
       "       [ 0,  3, 12,  1],\n",
       "       [ 5,  1,  9,  1]], dtype=int64)"
      ]
     },
     "execution_count": 11,
     "metadata": {},
     "output_type": "execute_result"
    }
   ],
   "source": []
  },
  {
   "cell_type": "code",
   "execution_count": 12,
   "id": "dac43e8d-191a-414a-b2c7-ddde9def1a91",
   "metadata": {},
   "outputs": [],
   "source": [
    "x_train, x_test, y_train, y_test = train_test_split(X, y, test_size=0.1, random_state=123)\n"
   ]
  },
  {
   "cell_type": "code",
   "execution_count": 13,
   "id": "50aaab2e-9803-4195-9324-0f7e77e4b615",
   "metadata": {},
   "outputs": [
    {
     "name": "stdout",
     "output_type": "stream",
     "text": [
      "Model accuracy: 0.8787908454028373\n"
     ]
    }
   ],
   "source": [
    "model = linear_model.LinearRegression()\n",
    "model.fit(x_train, y_train)\n",
    "acc = model.score(x_test, y_test)\n",
    "print(f\"Model accuracy: {acc}\")\n"
   ]
  },
  {
   "cell_type": "code",
   "execution_count": null,
   "id": "9b1b1387-8086-43ab-8e41-18a7f657621e",
   "metadata": {},
   "outputs": [],
   "source": []
  },
  {
   "cell_type": "code",
   "execution_count": null,
   "id": "b9bdcd58-d623-4203-add6-950435230f02",
   "metadata": {},
   "outputs": [],
   "source": []
  }
 ],
 "metadata": {
  "kernelspec": {
   "display_name": "Python 3 (ipykernel)",
   "language": "python",
   "name": "python3"
  },
  "language_info": {
   "codemirror_mode": {
    "name": "ipython",
    "version": 3
   },
   "file_extension": ".py",
   "mimetype": "text/x-python",
   "name": "python",
   "nbconvert_exporter": "python",
   "pygments_lexer": "ipython3",
   "version": "3.11.1"
  }
 },
 "nbformat": 4,
 "nbformat_minor": 5
}
