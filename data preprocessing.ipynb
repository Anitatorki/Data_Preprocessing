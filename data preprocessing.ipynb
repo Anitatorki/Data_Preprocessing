{
 "cells": [
  {
   "cell_type": "code",
   "execution_count": 26,
   "id": "1d01a484-fb8f-4b7c-9bb7-f5fa5a992687",
   "metadata": {},
   "outputs": [],
   "source": [
    "import numpy as np\n",
    "import pandas as pd \n",
    "import matplotlib.pyplot as plt\n",
    "import sklearn\n",
    "from sklearn.model_selection import train_test_split\n",
    "from sklearn import linear_model\n",
    "from sklearn import preprocessing\n",
    "from sklearn.linear_model import LinearRegression\n",
    "from sklearn.model_selection import train_test_split"
   ]
  },
  {
   "cell_type": "code",
   "execution_count": 27,
   "id": "8a333a44-7f37-48ce-b618-fe448ec41fae",
   "metadata": {},
   "outputs": [],
   "source": [
    "df = pd.read_csv(\"student-mat.csv\", sep=\";\")\n",
    "df = df[[\"absences\",\"Medu\",\"G2\",\"G3\",\"sex\", \"school\"]]\n",
    "\n",
    "predict = \"G3\"\n"
   ]
  },
  {
   "cell_type": "code",
   "execution_count": 28,
   "id": "b9bdcd58-d623-4203-add6-950435230f02",
   "metadata": {},
   "outputs": [],
   "source": [
    "myPreprocessing = preprocessing.LabelEncoder()\n",
    "sex = myPreprocessing.fit_transform(list(df[\"sex\"]))\n",
    "school = myPreprocessing.fit_transform(list(df[\"school\"]))\n"
   ]
  },
  {
   "cell_type": "code",
   "execution_count": 29,
   "id": "4b5ff2b4-0e8e-48ed-9738-a107d4fb187d",
   "metadata": {},
   "outputs": [],
   "source": [
    "X = list(zip(df[\"absences\"], df[\"G2\"], sex, school))\n"
   ]
  },
  {
   "cell_type": "code",
   "execution_count": 30,
   "id": "0c0cbb66-e284-45c3-9cfd-1126d5e68041",
   "metadata": {},
   "outputs": [],
   "source": [
    "y = np.array(df[predict])"
   ]
  },
  {
   "cell_type": "code",
   "execution_count": 33,
   "id": "979c10ab-ae9f-460c-8103-0b3312a707fd",
   "metadata": {},
   "outputs": [],
   "source": [
    "x_train, x_test, y_train, y_test = train_test_split(X, y, test_size=0.1)\n",
    "model = linear_model.LinearRegression()\n",
    "model.fit(x_train, y_train)\n",
    "score = model.score(x_test, y_test)"
   ]
  },
  {
   "cell_type": "code",
   "execution_count": 34,
   "id": "183c7234-6472-4795-b5ec-3bd91afd7b62",
   "metadata": {},
   "outputs": [
    {
     "data": {
      "text/plain": [
       "0.8462891568851811"
      ]
     },
     "execution_count": 34,
     "metadata": {},
     "output_type": "execute_result"
    }
   ],
   "source": [
    "score"
   ]
  },
  {
   "cell_type": "code",
   "execution_count": null,
   "id": "575784d2-26c9-4ceb-8419-8b95be9188a3",
   "metadata": {},
   "outputs": [],
   "source": []
  }
 ],
 "metadata": {
  "kernelspec": {
   "display_name": "Python 3 (ipykernel)",
   "language": "python",
   "name": "python3"
  },
  "language_info": {
   "codemirror_mode": {
    "name": "ipython",
    "version": 3
   },
   "file_extension": ".py",
   "mimetype": "text/x-python",
   "name": "python",
   "nbconvert_exporter": "python",
   "pygments_lexer": "ipython3",
   "version": "3.11.1"
  }
 },
 "nbformat": 4,
 "nbformat_minor": 5
}
